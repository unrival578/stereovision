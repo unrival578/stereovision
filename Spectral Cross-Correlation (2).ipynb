{
 "cells": [
  {
   "cell_type": "markdown",
   "metadata": {},
   "source": [
    "# Spectral Cross Correlation"
   ]
  },
  {
   "cell_type": "markdown",
   "metadata": {},
   "source": [
    "### Import modules"
   ]
  },
  {
   "cell_type": "code",
   "execution_count": null,
   "metadata": {},
   "outputs": [],
   "source": [
    "# Load necessary modules for code\n",
    "import numpy as np\n",
    "import matplotlib.pyplot as plt\n",
    "from PIL import Image\n",
    "from matplotlib.patches import Circle\n",
    "from timeit import default_timer as timer"
   ]
  },
  {
   "cell_type": "markdown",
   "metadata": {},
   "source": [
    "### Spectral Cross-Correlation with FFT"
   ]
  },
  {
   "cell_type": "code",
   "execution_count": null,
   "metadata": {},
   "outputs": [],
   "source": [
    "# A basic function with fast Fourier transforms to compute spectral cross-correlation\n",
    "\n",
    "# Originally using standard np.fft.fft and ifft but the results weren't nearly as good\n",
    "# as using the real fft in multiple dimensions. The standard fft algorithms don't properly\n",
    "# account for multi-dimension arrays and the shift into the spectral domain normally\n",
    "# introduces imaginary values which can become problematic when trying to understand things\n",
    "# physically so it's immportant to just use the real components\n",
    "\n",
    "def spec_cc(p,t):\n",
    "    # Compute 2D FFT on real inputs\n",
    "    fft_t = np.fft.rfftn(t)\n",
    "    fft_p = np.fft.rfftn(p)\n",
    "    # Take the complex conjugate of the pattern\n",
    "    fft_p = np.conj(fft_p)\n",
    "    # Multiply the FFT'd template with conjugated pattern\n",
    "    product = np.multiply(fft_p,fft_t)\n",
    "    # Take the inverse FFT of the real 2D result from above\n",
    "    scores = np.fft.irfftn(product)\n",
    "    # Return this scores matrix\n",
    "    return scores"
   ]
  },
  {
   "cell_type": "markdown",
   "metadata": {},
   "source": [
    "### Load Images"
   ]
  },
  {
   "cell_type": "code",
   "execution_count": null,
   "metadata": {},
   "outputs": [],
   "source": [
    "# Define a function to take an image filename, convert it to greyscale\n",
    "# and output as a 2D array (matrix)\n",
    "def im_load(file):\n",
    "    # Read image from filename, convert to array and greyscale\n",
    "    im = np.array(Image.open(file).convert('L')) # convert('L') is PIL conversion to greyscale\n",
    "    # Return image array\n",
    "    return im"
   ]
  },
  {
   "cell_type": "markdown",
   "metadata": {},
   "source": [
    "### 2D zero-padding"
   ]
  },
  {
   "cell_type": "code",
   "execution_count": null,
   "metadata": {},
   "outputs": [],
   "source": [
    "# Define a function to normalize and pad the input arrays in one go.\n",
    "\n",
    "# Rather than taking the array energy it is quicker and computationally\n",
    "# easier to just mean shift the arrays (shift values inside array towards\n",
    "# the mean value of the array) as the normalization. This is done and then\n",
    "# the normalized array is padded straight after\n",
    "\n",
    "def mean_padz(p,t):\n",
    "    # Normalize pattern and template with the method of mean shifting.\n",
    "    # Find the mean of each array\n",
    "    p_mean  = np.mean(p)\n",
    "    t_mean  = np.mean(t)\n",
    "    # Shift all values in the array by the mean, values near the mean\n",
    "    # will take on values near zero and contribute less\n",
    "    p_shift = p - p_mean\n",
    "    t_shift = t - t_mean\n",
    "    \n",
    "    # Now zero pad the shifted arrays.\n",
    "    # Start by finding the height and width of both arrays\n",
    "    y_min  = max(p.shape[0],t.shape[0])\n",
    "    x_min  = max(p.shape[1],t.shape[1])\n",
    "    # Set the new width and height to fill with zeros by considering\n",
    "    # an extension that is at least twice the size of the originals.\n",
    "    # As eluded to in tutes, this works best for powers of 2\n",
    "    width  = 2**int(np.ceil(np.log2(2*x_min)))\n",
    "    height = 2**int(np.ceil(np.log2(2*y_min)))\n",
    "    \n",
    "    # Create arrays of width and height found above and completely\n",
    "    # fill with zeros\n",
    "    p_pad  = np.zeros((height,width))\n",
    "    t_pad  = np.zeros((height,width))\n",
    "    # Fill the relevant positions of the original arrays with their\n",
    "    # meah shifted values, this padding is just to make the arrays\n",
    "    # equal size rather than extending as an equal box around the images\n",
    "    # like with the spatial CC\n",
    "    p_pad[:p.shape[0],:p.shape[1]] = p_shift \n",
    "    t_pad[:t.shape[0],:t.shape[1]] = t_shift\n",
    "    \n",
    "    # Return normalized and padded arrays\n",
    "    return p_pad,t_pad"
   ]
  },
  {
   "cell_type": "markdown",
   "metadata": {},
   "source": [
    "### 2D Best Lag"
   ]
  },
  {
   "cell_type": "code",
   "execution_count": null,
   "metadata": {},
   "outputs": [],
   "source": [
    "# This is the same as with spatial, take a score array and the pattern\n",
    "\n",
    "def b_lag(scores,pattern):\n",
    "    # Check for the best lag as a position in x and y separetly\n",
    "    y,x  = np.unravel_index(np.argmax(scores,axis=None),scores.shape)\n",
    "    # Make sure the best lag points correspond to roughly the centre of the\n",
    "    # pattern so if we put a marker on this location its right in the middle\n",
    "    xmid = x + pattern.shape[1]/2\n",
    "    ymid = y + pattern.shape[0]/2\n",
    "    return xmid,ymid"
   ]
  },
  {
   "cell_type": "markdown",
   "metadata": {},
   "source": [
    "## The final function"
   ]
  },
  {
   "cell_type": "code",
   "execution_count": null,
   "metadata": {},
   "outputs": [],
   "source": [
    "# Combine written functions to find the rocket man in the\n",
    "# Where's Wally puzzle\n",
    "\n",
    "def rocket_man(p_filename,t_filename):\n",
    "    # Load images in greyscale as arrays\n",
    "    pattern_gs  = im_load(p_filename)\n",
    "    template_gs = im_load(t_filename)\n",
    "    # Load coloured template for final check\n",
    "    template_col = np.array(Image.open(t_filename))\n",
    "    # Normalize and zero-pad the arrays\n",
    "    padded_pattern, padded_template = mean_padz(pattern_gs,template_gs)\n",
    "    # Compute spectral cross-correlation with FFTs\n",
    "    score_map = spec_cc(padded_pattern,padded_template)\n",
    "    # Find location of highest score\n",
    "    x_lag,y_lag = b_lag(score_map,pattern_gs)\n",
    "    print(\"The rocket man is at position:\",(x_lag,y_lag))\n",
    "    \n",
    "    #----Plot----#\n",
    "    \n",
    "    # Create a circle at this point\n",
    "    c_x,c_y = x_lag,y_lag\n",
    "    rocket_man = Circle((c_x,c_y),radius=20,color='black')\n",
    "    \n",
    "    fig, ax = plt.subplots(1,figsize=(38,12))\n",
    "    ax.imshow(template_col)\n",
    "    ax.add_patch(rocket_man)\n",
    "    plt.show(fig)\n",
    "    # Return best lag\n",
    "    return x_lag,y_lag\n",
    "    "
   ]
  },
  {
   "cell_type": "markdown",
   "metadata": {},
   "source": [
    "## Run the function"
   ]
  },
  {
   "cell_type": "code",
   "execution_count": null,
   "metadata": {},
   "outputs": [],
   "source": [
    "# Run the function and calculate runtime\n",
    "start = timer()\n",
    "rocket_man(\"/Users/justi/Desktop/wallypuzzle_rocket_man.png\",\"/Users/justi/Desktop/wallypuzzle_png.png\")\n",
    "end = timer()\n",
    "print(\"Runtime:\", end-start,\"s\") # Runtime in seconds"
   ]
  }
 ],
 "metadata": {
  "kernelspec": {
   "display_name": "Python 3",
   "language": "python",
   "name": "python3"
  },
  "language_info": {
   "codemirror_mode": {
    "name": "ipython",
    "version": 3
   },
   "file_extension": ".py",
   "mimetype": "text/x-python",
   "name": "python",
   "nbconvert_exporter": "python",
   "pygments_lexer": "ipython3",
   "version": "3.7.6"
  }
 },
 "nbformat": 4,
 "nbformat_minor": 4
}
