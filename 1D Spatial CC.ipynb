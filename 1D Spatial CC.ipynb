{
 "cells": [
  {
   "cell_type": "markdown",
   "metadata": {},
   "source": [
    "# 1D Spatial Cross-Correlation"
   ]
  },
  {
   "cell_type": "code",
   "execution_count": null,
   "metadata": {},
   "outputs": [],
   "source": [
    "########################################################################################\n",
    "# Author: Justin Clancy, University of Melbourne, 2020                                 #\n",
    "# - Pattern Matching -                                                                 #\n",
    "# Measuring Spatial Cross-Correlation for 1D signal                                    #\n",
    "########################################################################################"
   ]
  },
  {
   "cell_type": "markdown",
   "metadata": {},
   "source": [
    "## The functions"
   ]
  },
  {
   "cell_type": "markdown",
   "metadata": {},
   "source": [
    "### Import Modules Required"
   ]
  },
  {
   "cell_type": "code",
   "execution_count": 2,
   "metadata": {},
   "outputs": [],
   "source": [
    "# Import Modules\n",
    "from numpy import loadtxt\n",
    "import numpy as np\n",
    "import matplotlib.pyplot as plt\n",
    "from timeit import default_timer as timer"
   ]
  },
  {
   "cell_type": "markdown",
   "metadata": {},
   "source": [
    "### Cross Correlation Function"
   ]
  },
  {
   "cell_type": "code",
   "execution_count": null,
   "metadata": {},
   "outputs": [],
   "source": [
    "# Define a function to calculate the 1D spatial cross-correlation\n",
    "def cor(f,g):\n",
    "    # Creata an empty array to fill with the score at each m\n",
    "    score_array = []\n",
    "    # define the values of our variables noted earlier\n",
    "    # length of pattern:\n",
    "    n = len(f)\n",
    "    # total number of offset positions we can have in the template\n",
    "    m = np.arange(len(g)-(n-1))\n",
    "    # loop through the amount of offsets we can work with\n",
    "    for i in m:\n",
    "        # Create an array filled with zeros equal to the size of n\n",
    "        current_score = np.zeros(n)\n",
    "        # loop through the amount of values in the pattern\n",
    "        for j in np.arange(n):\n",
    "            # multiply the pattern and template value at this position\n",
    "            value = f[j]*g[j+i]\n",
    "            # update this positions score in the zeros array\n",
    "            current_score[j] = value\n",
    "        # sum the values in this array and add this to our final array\n",
    "        mcorr = np.sum(current_score)\n",
    "        score_array.append(mcorr)\n",
    "    # Return just the final score array\n",
    "    return(score_array)\n",
    "\n",
    "\n",
    "#-------Test---------#\n",
    "\n",
    "# Test inputs\n",
    "pattern = np.array([1,2,2,1])\n",
    "template = np.array([0,1,1,0,1,2,2,1,0,0,0])\n",
    "\n",
    "# Run test\n",
    "score = cor(pattern,template)\n",
    "print(\"Cross Correlation Scores: \\n\",score)"
   ]
  },
  {
   "cell_type": "markdown",
   "metadata": {},
   "source": [
    "### Best lag & score"
   ]
  },
  {
   "cell_type": "code",
   "execution_count": null,
   "metadata": {},
   "outputs": [],
   "source": [
    "# Define a function to locate the index of highest score (best lag)\n",
    "def B_Lag(cscore):\n",
    "    # Find the maximum value in the array\n",
    "    max_score = np.max(cscore)\n",
    "    # Find which index this occurs\n",
    "    max_index = cscore.index(max_score)\n",
    "    return(max_index,max_score)\n",
    "\n",
    "\n",
    "#-----Test------#\n",
    "\n",
    "\n",
    "max_loc_val = B_Lag(score)\n",
    "print(\"Location of best lag:\\n\",max_loc_val[0],\"\\nScore of best lag: \\n\",max_loc_val[1])"
   ]
  },
  {
   "cell_type": "markdown",
   "metadata": {},
   "source": [
    "### Array Energy Normalisation"
   ]
  },
  {
   "cell_type": "code",
   "execution_count": null,
   "metadata": {},
   "outputs": [],
   "source": [
    "# Define a function to calculate array energy normalisation factor\n",
    "# of two arrays\n",
    "def arr_eng(f,g):\n",
    "    # Check that the arrays are of the same length\n",
    "    if len(f)==len(g):\n",
    "        # Square and sum both arrays\n",
    "        f_sum = np.sum(f**2)\n",
    "        g_sum = np.sum(g**2)\n",
    "        # Return the multiple of both sums and square root\n",
    "        return(np.sqrt(f_sum*g_sum))\n",
    "    else:\n",
    "        # If the arrays are of different length, return an error\n",
    "        return(\"Error: Input arrays must be the same size!\")\n",
    "  \n",
    "#-------Test Inputs--------#\n",
    "\n",
    "\n",
    "arr1 = np.array([0,1,1,2])\n",
    "arr2 = np.array([1,1,0,2])\n",
    "\n",
    "array_energy = arr_eng(arr1,arr2)\n",
    "print(\"Array energy normalisation factor of two arrays:\\n\",array_energy)"
   ]
  },
  {
   "cell_type": "markdown",
   "metadata": {},
   "source": [
    "### Edge matches (Padding)"
   ]
  },
  {
   "cell_type": "code",
   "execution_count": null,
   "metadata": {},
   "outputs": [],
   "source": [
    "# Define function to zero-pad a template array\n",
    "def pad(array,size):\n",
    "    \n",
    "    # Create an array of input size, full of zero values\n",
    "    pading = np.zeros(size)\n",
    "    # Add the input array into the center of the zero filled array\n",
    "    right_pad = np.insert(array,len(array),pading)\n",
    "    full_pad = np.insert(right_pad,0,pading)\n",
    "    # Return padded array\n",
    "    return(full_pad)\n",
    "\n",
    "\n",
    "#-------Test inputs------#\n",
    "\n",
    "# padding size: 3\n",
    "array_to_pad = np.array([1,1,0,2])\n",
    "# Expected return: [0,0,0,1,1,0,2,0,0,0]\n",
    "\n",
    "padded_array = pad(array_to_pad,3)\n",
    "print(\"Padded array is now:\\n\",padded_array)"
   ]
  },
  {
   "cell_type": "markdown",
   "metadata": {},
   "source": [
    "## The Result"
   ]
  },
  {
   "cell_type": "markdown",
   "metadata": {},
   "source": [
    "### Submission Question"
   ]
  },
  {
   "cell_type": "code",
   "execution_count": null,
   "metadata": {
    "scrolled": true
   },
   "outputs": [],
   "source": [
    "# We can now use the 1D spatial cross-correlation to find out the \n",
    "# distance between two microphones by the signal they receive from\n",
    "# a speaker.\n",
    "\n",
    "# NOTE: The sampling rate is 44.1KHz or 44100 samples per second\n",
    "\n",
    "# Read the data files\n",
    "sensor_1_data = loadtxt(\"/Users/justi/Desktop/sensor1Data.txt\",skiprows=1)\n",
    "sensor_2_data = loadtxt(\"/Users/justi/Desktop/sensor2Data.txt\",skiprows=1)\n",
    "\n",
    "# Combine the above functions to obtain the signal offset\n",
    "def signal_corr(p,t):\n",
    "    overlap = len(p)            # Length of pattern that will be iteratively moved\n",
    "    \n",
    "    # Pad the template array\n",
    "    pad_t = pad(t,overlap-1)\n",
    "    \n",
    "    # Define an empty array to fill with results\n",
    "    score_arr = []\n",
    "    \n",
    "    # Iterate the pattern across all possible matches over the template\n",
    "    for i in np.arange(len(pad_t) - overlap + 1):\n",
    "        # Note the current slice of template\n",
    "        m = pad_t[i:i+overlap]\n",
    "        # Calculate array energy for normalization\n",
    "        energy = arr_eng(p,m)\n",
    "        # Calculate normalized correlation score\n",
    "        correlation = np.dot(p,m)/energy\n",
    "        # Add results to the score array\n",
    "        score_arr.append(correlation)\n",
    "        \n",
    "    # Remove the padding \n",
    "    score_og_size = score_arr[overlap - 1 : overlap + overlap + 1]\n",
    "    \n",
    "    # Record the maximum score and index location\n",
    "    #max_score = np.max(score_arr)\n",
    "    #best_lag = score_arr.index(max_score)\n",
    "    best_lag,max_score = B_Lag(score_arr)\n",
    "    \n",
    "    return score_arr,max_score,best_lag-(overlap-1), score_og_size\n"
   ]
  },
  {
   "cell_type": "markdown",
   "metadata": {},
   "source": [
    "## Run signal function"
   ]
  },
  {
   "cell_type": "code",
   "execution_count": null,
   "metadata": {},
   "outputs": [],
   "source": [
    "# Run the function with the sensor data\n",
    "start = timer()\n",
    "result = signal_corr(sensor_1_data,sensor_2_data)\n",
    "end = timer()\n",
    "print(\"Runtime:\", end-start,\"s\") # Runtime in seconds"
   ]
  },
  {
   "cell_type": "markdown",
   "metadata": {},
   "source": [
    "### Plots and calculations"
   ]
  },
  {
   "cell_type": "code",
   "execution_count": null,
   "metadata": {},
   "outputs": [],
   "source": [
    "# Calculate the time between signal being measured by each microphone\n",
    "freq = 44100 # Hz\n",
    "sound_speed = 333 # m/s\n",
    "T = 1/freq\n",
    "time = result[2]*T # s\n",
    "print(\"Time between microphones hearing sound:\",time,'s')\n",
    "\n",
    "# Calculate distance between microphones\n",
    "dist = sound_speed*time # m\n",
    "print(\"Distance between microphones is:\",dist,'m')\n",
    "\n",
    "#--------Plots---------#\n",
    "\n",
    "plt.plot(result[3])\n",
    "plt.title('Spatial cross-correlation scores (with padding removed) for signal matching')\n",
    "plt.xlabel('Index value')\n",
    "plt.ylabel('Spatial cross-correlation score')\n",
    "plt.show()\n",
    "\n",
    "plt.plot(result[0])\n",
    "plt.title('Spatial cross-correlation scores (with padding) for signal matching')\n",
    "plt.xlabel('Index value')\n",
    "plt.ylabel('Spatial cross-correlation score')\n",
    "plt.show()\n"
   ]
  }
 ],
 "metadata": {
  "kernelspec": {
   "display_name": "Python 3",
   "language": "python",
   "name": "python3"
  },
  "language_info": {
   "codemirror_mode": {
    "name": "ipython",
    "version": 3
   },
   "file_extension": ".py",
   "mimetype": "text/x-python",
   "name": "python",
   "nbconvert_exporter": "python",
   "pygments_lexer": "ipython3",
   "version": "3.7.6"
  }
 },
 "nbformat": 4,
 "nbformat_minor": 4
}
