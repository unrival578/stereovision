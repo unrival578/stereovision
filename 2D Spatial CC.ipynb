{
 "cells": [
  {
   "cell_type": "markdown",
   "metadata": {},
   "source": [
    "# 2D Spatial Cross-Correlation"
   ]
  },
  {
   "cell_type": "code",
   "execution_count": null,
   "metadata": {},
   "outputs": [],
   "source": [
    "########################################################################################\n",
    "# Author: Justin Clancy, University of Melbourne, 2020                                 #\n",
    "# - Pattern Matching -                                                                 #\n",
    "# Measuring Spatial Cross-Correlation for 2D Images                                    #\n",
    "########################################################################################"
   ]
  },
  {
   "cell_type": "markdown",
   "metadata": {},
   "source": [
    "## Import Modules"
   ]
  },
  {
   "cell_type": "code",
   "execution_count": null,
   "metadata": {},
   "outputs": [],
   "source": [
    "# Load necessary modules\n",
    "import numpy as np\n",
    "from PIL import Image, ImageDraw\n",
    "from numpy import loadtxt\n",
    "import matplotlib.pyplot as plt\n",
    "from matplotlib.patches import Circle\n",
    "from timeit import default_timer as timer"
   ]
  },
  {
   "cell_type": "markdown",
   "metadata": {},
   "source": [
    "## Read Image Files"
   ]
  },
  {
   "cell_type": "code",
   "execution_count": null,
   "metadata": {},
   "outputs": [],
   "source": [
    "# Function to read in image and convert it to greyscale\n",
    "def g_imarray(file):\n",
    "    # Read image and ('L') converts it to greyscale\n",
    "    im = np.array(Image.open(file).convert('L'))\n",
    "    return im\n",
    "\n",
    "\n",
    "\n",
    "#----Not really needed, just a more in depth version of above----# \n",
    "    \n",
    "def greyscale(colour):\n",
    "    r, g, b = colour[:,:,0], colour[:,:,1], colour[:,:,2]\n",
    "    grey = 0.2989*r + 0.5870*g + 0.1140*b\n",
    "    return grey\n",
    "#----------------------------------------------------------------#\n",
    "\n",
    "\n",
    "\n",
    "#-----Test-----#\n",
    "\n",
    "\n",
    "# Import files, convert to greyscale and turn into a 2D array\n",
    "gs_p = g_imarray(\"/Users/justi/Desktop/wallypuzzle_rocket_man.png\")\n",
    "gs_t = g_imarray(\"/Users/justi/Desktop/wallypuzzle_png.png\")\n",
    "\n",
    "# Import images without greyscale conversion for comparison\n",
    "template = np.array(Image.open(\"/Users/justi/Desktop/wallypuzzle_png.png\"))\n",
    "pattern = np.array(Image.open(\"/Users/justi/Desktop/wallypuzzle_rocket_man.png\"))"
   ]
  },
  {
   "cell_type": "markdown",
   "metadata": {},
   "source": [
    "## 2D Zero-Padding"
   ]
  },
  {
   "cell_type": "code",
   "execution_count": null,
   "metadata": {},
   "outputs": [],
   "source": [
    "# Define a function to pad a 2D array\n",
    "def spatial_pad(array, padding=1):\n",
    "    # Write out the array dimensions\n",
    "    x,y = array.shape\n",
    "    # Create an empy 2D array of at least 2 values larger in x and y\n",
    "    # value multiplied by an input depending on how much padding\n",
    "    # is required\n",
    "    padded = np.zeros((x+2*padding, y+2*padding),dtype=array.dtype)\n",
    "    # Fill the original dimensions in the center of the padded array\n",
    "    # with the original array values\n",
    "    padded[padding:-padding, padding:-padding] = array\n",
    "    # Return new array\n",
    "    return padded"
   ]
  },
  {
   "cell_type": "markdown",
   "metadata": {},
   "source": [
    "## 2D best lag"
   ]
  },
  {
   "cell_type": "code",
   "execution_count": null,
   "metadata": {},
   "outputs": [],
   "source": [
    "# Redefine a function for the best lag to search a 2D array. This is \n",
    "# pretty straight forward\n",
    "def b_lag(scores,pattern):\n",
    "    # Check for the best lag as a position in x and y separetly\n",
    "    y,x  = np.unravel_index(np.argmax(scores),scores.shape)\n",
    "    # Depending on what the pattern is, it is better generally to \n",
    "    # consider shifting the best lag to correspond with the center of \n",
    "    # pattern rather than the top left corner by default\n",
    "    xmid = x + pattern.shape[1] / 2\n",
    "    ymid = y + pattern.shape[0] / 2\n",
    "    return xmid,ymid"
   ]
  },
  {
   "cell_type": "markdown",
   "metadata": {},
   "source": [
    "## 2D Normalized Spatial Cross-Correlation Score"
   ]
  },
  {
   "cell_type": "code",
   "execution_count": null,
   "metadata": {},
   "outputs": [],
   "source": [
    "# Spectral Cross-Correlation function normalized with array energy\n",
    "\n",
    "# A separate array energy function was not really necessary so \n",
    "# the functions were combined\n",
    "def norm_corr_2d(pattern,template):\n",
    "    # Follow calculations as made in the 1D signal cross correlation\n",
    "    correlation = np.sum(pattern*template)\n",
    "    energy = np.sqrt((np.sum(template**2)))*np.sqrt(np.sum(pattern**2))\n",
    "    # Return normalized score\n",
    "    return correlation/energy"
   ]
  },
  {
   "cell_type": "markdown",
   "metadata": {},
   "source": [
    "## Submission Question"
   ]
  },
  {
   "cell_type": "code",
   "execution_count": null,
   "metadata": {},
   "outputs": [],
   "source": [
    "# A functoin to take an input pattern and template and locate the\n",
    "# pattern in the template, placing a black circle on the location\n",
    "def wheres_rocketman(pattern_file, template_file):\n",
    "    \n",
    "    # Read files as greyscale images with integer values\n",
    "    pattern = g_imarray(pattern_file)\n",
    "    pattern = np.array(pattern,dtype='int')\n",
    "    template = g_imarray(template_file)\n",
    "    \n",
    "    # Pad the template in both dimensions by a set amount\n",
    "    template = spatial_pad(template,100)\n",
    "    template = np.array(template,dtype='int')\n",
    "\n",
    "    # Read template as coloured image for viewing final result\n",
    "    template_colour = np.array(Image.open(template_file))\n",
    "    \n",
    "    # Write out pattern and template dimensions\n",
    "    temp_h,temp_w = template.shape\n",
    "    pat_h,pat_w = pattern.shape\n",
    "    \n",
    "    # Create an empty array to be filled with the scores\n",
    "    score_arr = np.zeros((temp_h-pat_h,temp_w-pat_w))\n",
    "    \n",
    "    # Iterate the pattern row by row across the template\n",
    "    for y in range(0,temp_h-pat_h):\n",
    "        for x in range(0,temp_w-pat_w):\n",
    "            # Define current template slice (m)\n",
    "            temp_slice = template[y:y+pat_h,x:x+pat_w]\n",
    "            # Calculate score and save in the score array\n",
    "            score_arr[y,x] = norm_corr_2d(pattern,temp_slice)\n",
    "            \n",
    "    # Obtain best lag location \n",
    "    blagx = b_lag(score_arr,pattern)[0]-100\n",
    "    blagy = b_lag(score_arr,pattern)[1]-100\n",
    "\n",
    "    # Create a black marking circle at the location of best lag\n",
    "    rocket_man = Circle((blagx,blagy),radius=20,color='black')\n",
    "\n",
    "    \n",
    "    # Plot the result on the original coloured image\n",
    "    fig, ax = plt.subplots(1,figsize=(38,12))\n",
    "    ax.imshow(template_colour)\n",
    "    ax.add_patch(rocket_man)\n",
    "    plt.show(fig)\n",
    "\n",
    "    print(\"Rocket man at:\",(blagx,blagy))\n",
    "    return blagx,blagy"
   ]
  },
  {
   "cell_type": "markdown",
   "metadata": {},
   "source": [
    "## Run the function"
   ]
  },
  {
   "cell_type": "code",
   "execution_count": null,
   "metadata": {
    "scrolled": false
   },
   "outputs": [],
   "source": [
    "# Find the 'Rocket man' in the Where's Wally puzzle and obtain runtime\n",
    "start = timer()\n",
    "wheres_rocketman(\"/Users/justi/Desktop/wallypuzzle_rocket_man.png\",\"/Users/justi/Desktop/wallypuzzle_png.png\")\n",
    "end = timer()\n",
    "print(\"Runtime:\", end-start,\"s\") # Runtime in seconds"
   ]
  },
  {
   "cell_type": "code",
   "execution_count": null,
   "metadata": {},
   "outputs": [],
   "source": []
  }
 ],
 "metadata": {
  "kernelspec": {
   "display_name": "Python 3",
   "language": "python",
   "name": "python3"
  },
  "language_info": {
   "codemirror_mode": {
    "name": "ipython",
    "version": 3
   },
   "file_extension": ".py",
   "mimetype": "text/x-python",
   "name": "python",
   "nbconvert_exporter": "python",
   "pygments_lexer": "ipython3",
   "version": "3.7.6"
  }
 },
 "nbformat": 4,
 "nbformat_minor": 4
}
